{
 "cells": [
  {
   "cell_type": "code",
   "execution_count": 6,
   "metadata": {},
   "outputs": [
    {
     "name": "stdout",
     "output_type": "stream",
     "text": [
      "ENTER YOUR FIRST NAMERAGINI \n",
      "RAGINI \n",
      "ENTER YOUR LAST NAMEJAIN\n",
      "JAIN\n",
      "YOUR REVERSAL NAME IS:  INIGAR   NIAJ\n"
     ]
    }
   ],
   "source": [
    "FN=input(\"ENTER YOUR FIRST NAME\")\n",
    "print(FN)\n",
    "LN=input(\"ENTER YOUR LAST NAME\")\n",
    "print(LN)\n",
    "str1=FN[::-1]\n",
    "str2=LN[::-1]\n",
    "print(\"YOUR REVERSAL NAME IS:\",str1,\" \", str2)"
   ]
  },
  {
   "cell_type": "code",
   "execution_count": null,
   "metadata": {},
   "outputs": [],
   "source": []
  }
 ],
 "metadata": {
  "kernelspec": {
   "display_name": "Python 3",
   "language": "python",
   "name": "python3"
  },
  "language_info": {
   "codemirror_mode": {
    "name": "ipython",
    "version": 3
   },
   "file_extension": ".py",
   "mimetype": "text/x-python",
   "name": "python",
   "nbconvert_exporter": "python",
   "pygments_lexer": "ipython3",
   "version": "3.8.3"
  }
 },
 "nbformat": 4,
 "nbformat_minor": 4
}
